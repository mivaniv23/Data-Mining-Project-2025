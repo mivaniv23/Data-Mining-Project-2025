{
 "cells": [
  {
   "cell_type": "markdown",
   "id": "23ffe11c",
   "metadata": {},
   "source": [
    "# Data Mining Final Project\n",
    "\n",
    "This notebook follows the CRISP-DM process."
   ]
  },
  {
   "cell_type": "code",
   "execution_count": null,
   "id": "318907c5",
   "metadata": {},
   "outputs": [],
   "source": [
    "# Import necessary libraries\n",
    "import pandas as pd\n",
    "import numpy as np"
   ]
  },
  {
   "cell_type": "markdown",
   "id": "d85a5b7e",
   "metadata": {},
   "source": [
    "## Step 1: Business and Data Understanding"
   ]
  },
  {
   "cell_type": "code",
   "execution_count": null,
   "id": "3df41023",
   "metadata": {},
   "outputs": [],
   "source": [
    "# Load your dataset\n",
    "# df = pd.read_csv('data/cleaned_dataset.csv')\n",
    "# df.head()"
   ]
  },
  {
   "cell_type": "markdown",
   "id": "4c536a95",
   "metadata": {},
   "source": [
    "Continue with your steps here..."
   ]
  }
 ],
 "metadata": {},
 "nbformat": 4,
 "nbformat_minor": 5
}
